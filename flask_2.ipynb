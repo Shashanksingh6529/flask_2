{
 "cells": [
  {
   "cell_type": "code",
   "execution_count": null,
   "id": "33362c18-07df-4496-869a-2e795dd6ce19",
   "metadata": {},
   "outputs": [],
   "source": [
    "\n",
    "\n",
    "\n",
    "\n",
    "redirect() is a function in Flask that redirects the client to a different URL. It is commonly used to redirect users to another route or an external URL based on certain conditions or after performing certain actions.\n",
    "Q4. Templates in Flask:\n",
    "\n",
    "Templates in Flask are HTML files with placeholders for dynamic content. They allow you to separate the presentation layer from the business logic in your application. The render_template() function is used to render these templates by replacing the placeholders with actual data passed from the Python code."
   ]
  },
  {
   "cell_type": "markdown",
   "id": "c75a3b3f-12cf-40b1-bfbb-7e5df2d69951",
   "metadata": {},
   "source": [
    "Q1. GET and POST methods:"
   ]
  },
  {
   "cell_type": "code",
   "execution_count": 1,
   "id": "76e8d55b-45e2-44b0-820a-d64345aac1e4",
   "metadata": {},
   "outputs": [
    {
     "data": {
      "text/plain": [
       "'POST: This method is used to submit data to be processed to a specified resource. When you send a POST request, data is sent in the body of the HTTP request. It is suitable for submitting data to the server, such as form submissions.'"
      ]
     },
     "execution_count": 1,
     "metadata": {},
     "output_type": "execute_result"
    }
   ],
   "source": [
    "\"GET: This method is used to request data from a specified resource. When you send a GET request, data is sent via the URL in the form of query parameters. It is suitable for retrieving data from the server.\"\n",
    "\"POST: This method is used to submit data to be processed to a specified resource. When you send a POST request, data is sent in the body of the HTTP request. It is suitable for submitting data to the server, such as form submissions.\""
   ]
  },
  {
   "cell_type": "markdown",
   "id": "ffbb623c-6930-4608-bd49-96805f4fc7c9",
   "metadata": {},
   "source": [
    "Q2. Request in Flask:"
   ]
  },
  {
   "cell_type": "code",
   "execution_count": 2,
   "id": "7014e288-6f25-44cb-ab71-349e7d3bc10f",
   "metadata": {},
   "outputs": [
    {
     "data": {
      "text/plain": [
       "'request is a built-in Flask object that represents the incoming HTTP request sent by the client to the server. It allows you to access form data, file uploads, cookies, and other HTTP headers. You can use it to process and handle data submitted by the client.'"
      ]
     },
     "execution_count": 2,
     "metadata": {},
     "output_type": "execute_result"
    }
   ],
   "source": [
    "\"request is a built-in Flask object that represents the incoming HTTP request sent by the client to the server. It allows you to access form data, file uploads, cookies, and other HTTP headers. You can use it to process and handle data submitted by the client.\""
   ]
  },
  {
   "cell_type": "markdown",
   "id": "a3a1fd3e-a3a6-4491-8123-3b86300dd634",
   "metadata": {},
   "source": [
    "Q3. redirect() in Flask:"
   ]
  },
  {
   "cell_type": "code",
   "execution_count": null,
   "id": "5e489510-b6ed-4ba3-ad6b-fe91b3dc9420",
   "metadata": {},
   "outputs": [],
   "source": []
  }
 ],
 "metadata": {
  "kernelspec": {
   "display_name": "Python 3 (ipykernel)",
   "language": "python",
   "name": "python3"
  },
  "language_info": {
   "codemirror_mode": {
    "name": "ipython",
    "version": 3
   },
   "file_extension": ".py",
   "mimetype": "text/x-python",
   "name": "python",
   "nbconvert_exporter": "python",
   "pygments_lexer": "ipython3",
   "version": "3.10.8"
  }
 },
 "nbformat": 4,
 "nbformat_minor": 5
}
